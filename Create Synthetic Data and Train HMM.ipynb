{
 "cells": [
  {
   "cell_type": "code",
   "execution_count": 120,
   "metadata": {
    "collapsed": false
   },
   "outputs": [
    {
     "name": "stdout",
     "output_type": "stream",
     "text": [
      "Emission probabilities are:\n",
      "[[ 0.04544358  0.95455642]\n",
      " [ 0.43122849  0.56877151]]\n",
      "Transmission probabilities are:\n",
      "[[ 0.71818229  0.28181771]\n",
      " [ 0.80499633  0.19500367]]\n"
     ]
    },
    {
     "data": {
      "text/plain": [
       "array([0, 0, 0, 1, 0, 0, 0, 0, 1, 0, 0, 0, 0, 1, 0, 0, 0, 0, 0, 0, 0, 0, 0,\n",
       "       0, 0, 0, 0, 0, 0, 0, 0, 0, 0, 0, 1, 0, 0, 0, 1, 0, 0, 0, 0, 0, 0, 0,\n",
       "       0, 1, 0, 0, 0, 1, 1, 0, 0, 0, 0, 0, 1, 1, 0, 0, 0, 0, 0, 1, 0, 0, 0,\n",
       "       0, 0, 0, 0, 0, 1, 0, 1, 0, 0, 0, 0, 0, 0, 0, 0, 0, 0, 1, 0, 0, 0, 0,\n",
       "       0, 0, 0, 1, 0, 0, 0, 0, 1, 0, 0, 0, 0, 0, 0, 1, 0, 0, 0, 0, 0, 0, 0,\n",
       "       1, 0, 0, 0, 0, 0, 0, 0, 0, 0, 0, 0, 0, 0, 0, 1, 0, 0, 0, 1, 0, 0, 0,\n",
       "       0, 0, 0, 0, 0, 1, 0])"
      ]
     },
     "execution_count": 120,
     "metadata": {},
     "output_type": "execute_result"
    }
   ],
   "source": [
    "import numpy as np\n",
    "from hmmlearn.hmm import MultinomialHMM\n",
    "\n",
    "#Under cts IRT model; not for BKT use\n",
    "class Question:\n",
    "  def __init__(self, difficulty, concept):\n",
    "    self.d = difficulty\n",
    "    self.c = concept\n",
    "\n",
    "  def pRight(self, skill):\n",
    "    return 1.0/(1.0 + np.exp(self.d - skill))\n",
    "\n",
    "\n",
    "def ber(p):\n",
    "  return np.random.binomial(1,p)\n",
    "\n",
    "# This is... \n",
    "def pRight(diff, skill):\n",
    "  return .25 + .75/(1.0 + np.exp(diff - skill))\n",
    "\n",
    "\n",
    "pL0 = 0.3 # Probability of knowing the concept initially\n",
    "pG = 0.25 # Probability of guessing correctly \n",
    "pS = .05 # Probability of slipping (answering incorrectly despite knowing the concep)\n",
    "pT = 0.1 # Probability of learning the concept after an incorrect answer\n",
    "\n",
    "numStudents = 100\n",
    "numQuestions = 300\n",
    "numConcepts = 2\n",
    "\n",
    "conceptDiffs = np.random.normal(0,1,numConcepts)\n",
    "qConcepts = np.random.randint(0,numConcepts, numQuestions)\n",
    "qMeans = np.array([conceptDiffs[qConcept] for qConcept in qConcepts])\n",
    "diffs = np.random.normal(0,1, numQuestions) + qMeans\n",
    "answers = np.zeros((numStudents, numQuestions))\n",
    "knowTracks = np.zeros((numStudents, numConcepts, numQuestions))\n",
    "\n",
    "# Not sure what this is doing exactly\n",
    "for i in range(numStudents):\n",
    "    know = np.random.binomial(1, pL0, numConcepts)\n",
    "    for j in range(numQuestions):\n",
    "        curConcept = qConcepts[j]\n",
    "        #if i == 0 and curConcept == 0: print know[0]\n",
    "        knowTracks[i, curConcept, j] = know[curConcept]\n",
    "        knowTracks[i, :, j] = know\n",
    "        answers[i,j] = ber(pRight(diffs[j], know[curConcept]))\n",
    "        if ber(pT) == 1: know[curConcept] = 1\n",
    "\n",
    "#print \"concept difficulties\", conceptDiffs\n",
    "#print \"question concepts\", qConcepts\n",
    "#print \"question diffs\", diffs\n",
    "#print answers\n",
    "\n",
    "def multinomify(traj):\n",
    "    # This way of formatting the data is taken from https://github.com/hmmlearn/hmmlearn/issues/70\n",
    "    return np.array([[int(t) for t in traj]]).T\n",
    "\n",
    "#Now, infer HMM parameters from emissions:\n",
    "\n",
    "model = MultinomialHMM(n_components=2)\n",
    "student = 10\n",
    "concept = 0\n",
    "trainData = multinomify(answers[student, qConcepts == concept])\n",
    "M = model.fit(trainData)\n",
    "print \"Emission probabilities are:\"\n",
    "print M.emissionprob_\n",
    "print \"Transmission probabilities are:\"\n",
    "print M.transmat_\n",
    "\n",
    "M.predict(trainData)\n",
    "\n",
    "#M.predict(trainData.reshape(1, -1))\n",
    "#trainData = []\n",
    "#trainLengths = []\n",
    "#for s in range(numStudents):\n",
    "#  for c in range(numConcepts):\n",
    "#    trajectories = answers[s,qConcepts == c]\n",
    "#    trainData += multinomify(trajectories)\n",
    "#    trainLengths.append(len(trajectories))\n",
    "    \n",
    "#M = model.fit(trainData, trainLengths)"
   ]
  }
 ],
 "metadata": {
  "kernelspec": {
   "display_name": "Python 2",
   "language": "python",
   "name": "python2"
  },
  "language_info": {
   "codemirror_mode": {
    "name": "ipython",
    "version": 2
   },
   "file_extension": ".py",
   "mimetype": "text/x-python",
   "name": "python",
   "nbconvert_exporter": "python",
   "pygments_lexer": "ipython2",
   "version": "2.7.10"
  }
 },
 "nbformat": 4,
 "nbformat_minor": 1
}
